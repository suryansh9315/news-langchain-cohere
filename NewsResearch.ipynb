{
 "cells": [
  {
   "cell_type": "code",
   "execution_count": 1,
   "id": "402562eb-b5fe-4367-890c-d382a3b4fc5c",
   "metadata": {},
   "outputs": [],
   "source": [
    "import streamlit as st\n",
    "from langchain_community.document_loaders import UnstructuredURLLoader\n",
    "from langchain.text_splitter import RecursiveCharacterTextSplitter\n",
    "from langchain_community.vectorstores import FAISS\n",
    "from langchain_cohere import CohereEmbeddings\n",
    "from langchain_cohere import ChatCohere\n",
    "from langchain_core.prompts import ChatPromptTemplate\n",
    "from langchain.chains.combine_documents import create_stuff_documents_chain\n",
    "from langchain.chains import create_retrieval_chain\n",
    "from dotenv import load_dotenv"
   ]
  },
  {
   "cell_type": "code",
   "execution_count": 2,
   "id": "c11e8e14-367e-46b0-937f-6e0ea8eeb4d4",
   "metadata": {},
   "outputs": [
    {
     "data": {
      "text/plain": [
       "2"
      ]
     },
     "execution_count": 2,
     "metadata": {},
     "output_type": "execute_result"
    }
   ],
   "source": [
    "loader = UnstructuredURLLoader(urls=[\n",
    "    \"https://www.moneycontrol.com/news/business/business-news-live-sebi-board-meeting-manba-finance-share-price-krn-heat-exchanger-allotment-status-ipo-september-30-liveblog-12831964.html#google_vignette\",\n",
    "    \"https://www.moneycontrol.com/news/business/startup/cred-revenue-rises-66-to-rs-2473-crore-in-fy24-losses-down-by-41-to-rs-609-crore-12832446.html\"\n",
    "])\n",
    "data = loader.load()\n",
    "len(data)"
   ]
  },
  {
   "cell_type": "code",
   "execution_count": 3,
   "id": "48afeee4-0a61-45d2-bdc9-b2a660925089",
   "metadata": {},
   "outputs": [],
   "source": [
    "r_splitter = RecursiveCharacterTextSplitter(\n",
    "    chunk_size=1000,\n",
    "    chunk_overlap=200\n",
    ")\n",
    "chunks = r_splitter.split_documents(data)\n",
    "chunks_string = []\n",
    "for chunk in chunks:\n",
    "    chunks_string.append(chunk.page_content)"
   ]
  },
  {
   "cell_type": "code",
   "execution_count": 4,
   "id": "5b1a59e6-635c-4927-91be-5be5844e33b8",
   "metadata": {},
   "outputs": [],
   "source": [
    "embeddings_model = CohereEmbeddings(cohere_api_key='fOKNiUz8cq3c7LfrrzrX7E70vgGpZStUEgdt3Ohj', model='embed-english-v3.0')\n",
    "vectorstore = FAISS.from_documents(chunks, embeddings_model)"
   ]
  },
  {
   "cell_type": "code",
   "execution_count": 5,
   "id": "ff33f155-f2e2-42a5-ad83-1cd8efeaf9ed",
   "metadata": {},
   "outputs": [
    {
     "data": {
      "text/plain": [
       "6"
      ]
     },
     "execution_count": 5,
     "metadata": {},
     "output_type": "execute_result"
    }
   ],
   "source": [
    "retriever = vectorstore.as_retriever(search_type=\"similarity\", search_kwargs={\"k\": 6})\n",
    "\n",
    "retrieved_docs = retriever.invoke(\"What are the approaches to Task Decomposition?\")\n",
    "\n",
    "len(retrieved_docs)"
   ]
  },
  {
   "cell_type": "code",
   "execution_count": 6,
   "id": "5b617bae-d8b2-485d-9294-99b5d12a967d",
   "metadata": {},
   "outputs": [],
   "source": [
    "llm = ChatCohere(cohere_api_key='fOKNiUz8cq3c7LfrrzrX7E70vgGpZStUEgdt3Ohj', model=\"command-r-plus\")"
   ]
  },
  {
   "cell_type": "code",
   "execution_count": 7,
   "id": "2e8891c8-f7bd-4cf3-b86a-67fbaf725623",
   "metadata": {},
   "outputs": [],
   "source": [
    "system_prompt = (\n",
    "    \"You are an assistant for question-answering tasks. \"\n",
    "    \"Use the following pieces of retrieved context to answer \"\n",
    "    \"the question. If you don't know the answer, say that you \"\n",
    "    \"don't know. Use three sentences maximum and keep the \"\n",
    "    \"answer concise.\"\n",
    "    \"\\n\\n\"\n",
    "    \"{context}\"\n",
    ")\n",
    "\n",
    "prompt = ChatPromptTemplate.from_messages(\n",
    "    [\n",
    "        (\"system\", system_prompt),\n",
    "        (\"human\", \"{input}\"),\n",
    "    ]\n",
    ")"
   ]
  },
  {
   "cell_type": "code",
   "execution_count": 8,
   "id": "8f532c93-b503-4400-b7b9-1a28391614f2",
   "metadata": {},
   "outputs": [
    {
     "name": "stdout",
     "output_type": "stream",
     "text": [
      "The Securities and Exchange Board of India (SEBI) held a board meeting to address market expectations and proposals for tightening rules on futures and options transactions.\n"
     ]
    }
   ],
   "source": [
    "question_answer_chain = create_stuff_documents_chain(llm, prompt)\n",
    "rag_chain = create_retrieval_chain(retriever, question_answer_chain)\n",
    "\n",
    "response = rag_chain.invoke({\"input\": \"Why did sebi did a metting?\"})\n",
    "print(response[\"answer\"])"
   ]
  },
  {
   "cell_type": "code",
   "execution_count": 28,
   "id": "2b4115e7-047d-4930-99df-fb19cadaf5df",
   "metadata": {},
   "outputs": [
    {
     "data": {
      "text/plain": [
       "['https://www.moneycontrol.com/news/business/business-news-live-sebi-board-meeting-manba-finance-share-price-krn-heat-exchanger-allotment-status-ipo-september-30-liveblog-12831964.html#google_vignette',\n",
       " 'https://www.moneycontrol.com/news/business/business-news-live-sebi-board-meeting-manba-finance-share-price-krn-heat-exchanger-allotment-status-ipo-september-30-liveblog-12831964.html#google_vignette',\n",
       " 'https://www.moneycontrol.com/news/business/business-news-live-sebi-board-meeting-manba-finance-share-price-krn-heat-exchanger-allotment-status-ipo-september-30-liveblog-12831964.html#google_vignette',\n",
       " 'https://www.moneycontrol.com/news/business/business-news-live-sebi-board-meeting-manba-finance-share-price-krn-heat-exchanger-allotment-status-ipo-september-30-liveblog-12831964.html#google_vignette',\n",
       " 'https://www.moneycontrol.com/news/business/business-news-live-sebi-board-meeting-manba-finance-share-price-krn-heat-exchanger-allotment-status-ipo-september-30-liveblog-12831964.html#google_vignette',\n",
       " 'https://www.moneycontrol.com/news/business/business-news-live-sebi-board-meeting-manba-finance-share-price-krn-heat-exchanger-allotment-status-ipo-september-30-liveblog-12831964.html#google_vignette']"
      ]
     },
     "execution_count": 28,
     "metadata": {},
     "output_type": "execute_result"
    }
   ],
   "source": [
    "sources = []\n",
    "for doc in response.get('context'):\n",
    "    sources.append(doc.metadata['source'])\n",
    "sources"
   ]
  },
  {
   "cell_type": "code",
   "execution_count": null,
   "id": "6d398a11-fe5a-4849-b5cf-e953f6b484f2",
   "metadata": {},
   "outputs": [],
   "source": []
  }
 ],
 "metadata": {
  "kernelspec": {
   "display_name": "Python 3 (ipykernel)",
   "language": "python",
   "name": "python3"
  },
  "language_info": {
   "codemirror_mode": {
    "name": "ipython",
    "version": 3
   },
   "file_extension": ".py",
   "mimetype": "text/x-python",
   "name": "python",
   "nbconvert_exporter": "python",
   "pygments_lexer": "ipython3",
   "version": "3.12.4"
  }
 },
 "nbformat": 4,
 "nbformat_minor": 5
}
